{
 "cells": [
  {
   "cell_type": "markdown",
   "metadata": {},
   "source": [
    "# More on Using NER to Map Geographic Metadata in MARC Records\n",
    "*Now with a **better** strategy for disambiguating placenames!*"
   ]
  },
  {
   "cell_type": "markdown",
   "metadata": {},
   "source": [
    "This post follows up on a previous posts about using NER to map placenames found in ISAW Library MARC records. One problem that we encountered in the last post was the disambiguation of placename data. \n",
    "\n",
    "To summarize the work completed so far: using the American School of Classical Studies at Athens's 1947 [*Ancient Corinth: A guide to the excavations*](http://www.worldcat.org/title/ancient-corinth-a-guide-to-the-excavations/oclc/10220993), we can use the Stanford NER tagger to return possible location-topics for the book—in this case, Corinth (thankfully!), Athens, and Greece. Using Geonames, we can get a list of possible matches for these places, retrieve the latitude and longitude data, and map these points. That said, a query for 'athens' yields both \"Athens, Greece\" and \"Athens, GA\" so some disambiguation strategy is necessary.\n",
    "\n",
    "In this notebook, I use geographic clustering with DBSCAN to isolate a 'region' for the coordinates that best suits the original research question: \"Where is this book about?\" Using a threshold of 1000km, the cities of Athens and Corinth and the country of Greece all fall into one cluster, while Athens, GA falls into another (and, for that matter, Corinth in Saint Lucia into yet another). Assuming that a book is geographically coherent—a large and problematic assumption, though perhaps less so for an archaeological site report—we work from the premise that the highest frequency locations will cluster together. From here (for now), we take the closest coordinates to the cluster's center. As shown below, this strategy works for *Ancient Corinth*. More testing is neeeded, but this experiment is encouraging and it moves the solution to our disambiguation problem further along. [PJB 6.22.18]"
   ]
  },
  {
   "cell_type": "code",
   "execution_count": 1,
   "metadata": {},
   "outputs": [],
   "source": [
    "# Imports\n",
    "\n",
    "%load_ext dotenv\n",
    "\n",
    "import os\n",
    "\n",
    "import json\n",
    "import requests\n",
    "\n",
    "from nltk.tag import StanfordNERTagger\n",
    "from nltk.tokenize import word_tokenize\n",
    "from nltk import pos_tag\n",
    "from nltk.chunk import conlltags2tree\n",
    "from nltk.tree import Tree\n",
    "\n",
    "import folium\n",
    "\n",
    "from pprint import pprint\n",
    "from tqdm.notebook import tqdm"
   ]
  },
  {
   "cell_type": "code",
   "execution_count": 2,
   "metadata": {},
   "outputs": [],
   "source": [
    "%dotenv .env\n",
    "# Set environment variable\n",
    "# Geonames requires a username to access the API but we do not want to expose personal info in code\n",
    "# Run this locally by adding USERNAME to environment variables, e.g. to .env, as follows:\n",
    "# > export USERNAME=<insert username here>\n",
    "USERNAME = os.getenv('USERNAME')"
   ]
  },
  {
   "cell_type": "markdown",
   "metadata": {},
   "source": [
    "## Get MARC Records"
   ]
  },
  {
   "cell_type": "code",
   "execution_count": 3,
   "metadata": {},
   "outputs": [
    {
     "name": "stdout",
     "output_type": "stream",
     "text": [
      "['DF261.C65 A57 1947   (OCoLC)10220993   Ancient Corinth : a guide to the excavations.   Guide to the excavations of ancient Corinth   4th ed., rev. and enl.   [Athens? : Printing Office \"Hestia\"], 1947.   127 p., [2] leaves of plates : ill., plans (some fold.) ; 21 cm.   At head of title: American School of Classical Studies at Athens. Corinth (Greece) Antiquities.   Excavations (Archaeology) Greece Corinth.   Greece Antiquities.   Broneer, Oscar, 1894-1992.   Carpenter, Rhys, 1889-1980. Ancient Corinth, a guide to the excavations and museums.   Morgan, Charles H. (Charles Hill), 1902-1984.   American School of Classical Studies at Athens.']\n"
     ]
    }
   ],
   "source": [
    "# modified marc record\n",
    "\n",
    "marcs = ['DF261.C65 A57 1947   (OCoLC)10220993   Ancient Corinth : a guide to the excavations.   Guide to the excavations of ancient Corinth   4th ed., rev. and enl.   [Athens? : Printing Office \"Hestia\"], 1947.   127 p., [2] leaves of plates : ill., plans (some fold.) ; 21 cm.   At head of title: American School of Classical Studies at Athens. Corinth (Greece) Antiquities.   Excavations (Archaeology) Greece Corinth.   Greece Antiquities.   Broneer, Oscar, 1894-1992.   Carpenter, Rhys, 1889-1980. Ancient Corinth, a guide to the excavations and museums.   Morgan, Charles H. (Charles Hill), 1902-1984.   American School of Classical Studies at Athens.']\n",
    "print(marcs)"
   ]
  },
  {
   "cell_type": "markdown",
   "metadata": {},
   "source": [
    "## Named Entity Extraction on MARC Record"
   ]
  },
  {
   "cell_type": "code",
   "execution_count": 4,
   "metadata": {},
   "outputs": [],
   "source": [
    "# Setup Stanford NER Tagger\n",
    "\n",
    "st = StanfordNERTagger('/usr/local/share/stanford-ner/classifiers/english.all.3class.distsim.crf.ser.gz', \n",
    "                       '/usr/local/share/stanford-ner/stanford-ner.jar',\n",
    "                       encoding='utf-8')"
   ]
  },
  {
   "cell_type": "code",
   "execution_count": 5,
   "metadata": {},
   "outputs": [],
   "source": [
    "# Functions for putting together with inside-outside-beginning (IOB) logic\n",
    "# Cf. https://stackoverflow.com/a/30666949\n",
    "#\n",
    "# For more information on IOB tagging, see https://en.wikipedia.org/wiki/Inside–outside–beginning_(tagging)\n",
    "\n",
    "def stanfordNE2BIO(tagged_sent):\n",
    "    bio_tagged_sent = []\n",
    "    prev_tag = \"O\"\n",
    "    for token, tag in tagged_sent:\n",
    "        if tag == \"O\": #O\n",
    "            bio_tagged_sent.append((token, tag))\n",
    "            prev_tag = tag\n",
    "            continue\n",
    "        if tag != \"O\" and prev_tag == \"O\": # Begin NE\n",
    "            bio_tagged_sent.append((token, \"B-\"+tag))\n",
    "            prev_tag = tag\n",
    "        elif prev_tag != \"O\" and prev_tag == tag: # Inside NE\n",
    "            bio_tagged_sent.append((token, \"I-\"+tag))\n",
    "            prev_tag = tag\n",
    "        elif prev_tag != \"O\" and prev_tag != tag: # Adjacent NE\n",
    "            bio_tagged_sent.append((token, \"B-\"+tag))\n",
    "            prev_tag = tag\n",
    "\n",
    "    return bio_tagged_sent\n",
    "\n",
    "\n",
    "def stanfordNE2tree(ne_tagged_sent):\n",
    "    bio_tagged_sent = stanfordNE2BIO(ne_tagged_sent)\n",
    "    sent_tokens, sent_ne_tags = zip(*bio_tagged_sent)\n",
    "    sent_pos_tags = [pos for token, pos in pos_tag(sent_tokens)]\n",
    "\n",
    "    sent_conlltags = [(token, pos, ne) for token, pos, ne in zip(sent_tokens, sent_pos_tags, sent_ne_tags)]\n",
    "    ne_tree = conlltags2tree(sent_conlltags)\n",
    "    return ne_tree"
   ]
  },
  {
   "cell_type": "code",
   "execution_count": 6,
   "metadata": {},
   "outputs": [
    {
     "data": {
      "application/vnd.jupyter.widget-view+json": {
       "model_id": "e96dc8535057430ab0263bdb4fcc078c",
       "version_major": 2,
       "version_minor": 0
      },
      "text/plain": [
       "HBox(children=(FloatProgress(value=0.0, max=1.0), HTML(value='')))"
      ]
     },
     "metadata": {},
     "output_type": "display_data"
    },
    {
     "name": "stdout",
     "output_type": "stream",
     "text": [
      "\n"
     ]
    }
   ],
   "source": [
    "# Apply NER to each MARC record; extract locations\n",
    "\n",
    "places_set = []\n",
    "\n",
    "for marc in tqdm(marcs):\n",
    "    marc_coordinates = []\n",
    "    tokenized_marc = word_tokenize(marc)\n",
    "    classified_marc = st.tag(tokenized_marc)\n",
    "    classified_marc = [item for item in classified_marc if item[0] != ''] # clean up parsing\n",
    "    ne_tree = stanfordNE2tree(classified_marc)\n",
    "\n",
    "    ne_in_sent = []\n",
    "    for subtree in ne_tree:\n",
    "        if type(subtree) == Tree: # If subtree is a noun chunk, i.e. NE != \"O\"\n",
    "            ne_label = subtree.label()\n",
    "            ne_string = \" \".join([token for token, pos in subtree.leaves()])\n",
    "            ne_in_sent.append((ne_string, ne_label))\n",
    "    \n",
    "    locations = set([tag[0] for tag in ne_in_sent if tag[1] == 'LOCATION']) # If we don't make this a set, we can use frequency info for map weight\n",
    "    \n",
    "    places_set.append(locations)\n",
    "    "
   ]
  },
  {
   "cell_type": "code",
   "execution_count": 7,
   "metadata": {},
   "outputs": [
    {
     "name": "stdout",
     "output_type": "stream",
     "text": [
      "['Athens', 'Corinth', 'Greece', 'Greece Antiquities', 'Greece Corinth']\n"
     ]
    }
   ],
   "source": [
    "places_set = [sorted(item) for item in places_set]\n",
    "print(places_set[0])"
   ]
  },
  {
   "cell_type": "markdown",
   "metadata": {},
   "source": [
    "## Geolocate place names"
   ]
  },
  {
   "cell_type": "code",
   "execution_count": 8,
   "metadata": {},
   "outputs": [],
   "source": [
    "# Function for querying geonames\n",
    "\n",
    "def geonames_query(location):\n",
    "    '''\n",
    "    queries geonames for given location name;\n",
    "    bounding box variables contain default values\n",
    "    based on: https://prpole.github.io/location-extraction-georeferencing/    \n",
    "    '''\n",
    "    # Todo\n",
    "    # - replace error handling\n",
    "\n",
    "    baseurl = 'http://api.geonames.org/searchJSON' #baseurl for geonames\n",
    "    username = USERNAME # Keep USERNAME in .env\n",
    "    json_decode = json.JSONDecoder() #used to parse json response\n",
    "\n",
    "    params = {\n",
    "        'username': username, \n",
    "        'name_equals': location,\n",
    "        'orderby': 'relevance',\n",
    "    }\n",
    "    \n",
    "    response = requests.get(baseurl, params=params)\n",
    "    response_string = response.text\n",
    "    parsed_response = json_decode.decode(response_string)\n",
    "    \n",
    "    if 'geonames' in parsed_response.keys():\n",
    "        if len(parsed_response['geonames']) > 0:\n",
    "            first_response = parsed_response['geonames'][0]\n",
    "            coordinates = (first_response['lat'],first_response['lng'])\n",
    "        else: \n",
    "            coordinates = ('','')\n",
    "    else:\n",
    "        coordinates = ('','')\n",
    "    return coordinates"
   ]
  },
  {
   "cell_type": "code",
   "execution_count": 9,
   "metadata": {},
   "outputs": [
    {
     "name": "stdout",
     "output_type": "stream",
     "text": [
      "Athens\n",
      "Corinth\n",
      "Greece\n",
      "Greece Antiquities\n",
      "Greece Corinth\n",
      "[('37.98376', '23.72784'), ('33.15401', '-97.06473'), ('39', '22')]\n"
     ]
    }
   ],
   "source": [
    "# Build list of likely coordinates for places\n",
    "\n",
    "places_list = []\n",
    "coordinates_list = []\n",
    "\n",
    "for places in places_set[:1]:\n",
    "    coordinates = []\n",
    "    for place in places:\n",
    "        print(place)\n",
    "        ll = geonames_query(place)\n",
    "        if ll != ('',''):\n",
    "            places_list.append(place)\n",
    "            coordinates.append(ll)\n",
    "    coordinates_list.append(coordinates)    \n",
    "\n",
    "print(coordinates_list[0])"
   ]
  },
  {
   "cell_type": "code",
   "execution_count": 10,
   "metadata": {},
   "outputs": [],
   "source": [
    "# Convert coordinates to float\n",
    "\n",
    "coordinates_list = [[(float(lat), float(long)) for lat, long in item] for item in coordinates_list]"
   ]
  },
  {
   "cell_type": "code",
   "execution_count": 11,
   "metadata": {},
   "outputs": [
    {
     "name": "stdout",
     "output_type": "stream",
     "text": [
      "['Athens', 'Corinth', 'Greece']\n",
      "[(37.98376, 23.72784), (33.15401, -97.06473), (39.0, 22.0)]\n"
     ]
    }
   ],
   "source": [
    "# Get sample\n",
    "\n",
    "print(places_list)\n",
    "print(coordinates_list[0])"
   ]
  },
  {
   "cell_type": "markdown",
   "metadata": {},
   "source": [
    "## Create map"
   ]
  },
  {
   "cell_type": "code",
   "execution_count": 12,
   "metadata": {},
   "outputs": [
    {
     "data": {
      "text/html": [
       "<div style=\"width:100%;\"><div style=\"position:relative;width:100%;height:0;padding-bottom:60%;\"><span style=\"color:#565656\">Make this Notebook Trusted to load map: File -> Trust Notebook</span><iframe src=\"about:blank\" style=\"position:absolute;width:100%;height:100%;left:0;top:0;border:none !important;\" data-html=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 onload=\"this.contentDocument.open();this.contentDocument.write(atob(this.getAttribute('data-html')));this.contentDocument.close();\" allowfullscreen webkitallowfullscreen mozallowfullscreen></iframe></div></div>"
      ],
      "text/plain": [
       "<folium.folium.Map at 0x7fa6fdefd310>"
      ]
     },
     "execution_count": 12,
     "metadata": {},
     "output_type": "execute_result"
    }
   ],
   "source": [
    "# Set up Folium and populate with coordinates\n",
    "\n",
    "basemap = folium.Map(location=[37.97945, 23.71622], zoom_start=4, tiles='cartodbpositron', width=960, height=512)\n",
    "\n",
    "for i, c in enumerate(coordinates_list[0]):\n",
    "    folium.Marker([c[0], c[1]], popup='{} {}{}'.format(places_list[i], c[0], c[1])).add_to(basemap)\n",
    "    \n",
    "basemap"
   ]
  },
  {
   "cell_type": "code",
   "execution_count": 13,
   "metadata": {
    "scrolled": true
   },
   "outputs": [
    {
     "data": {
      "text/html": [
       "<div style=\"width:100%;\"><div style=\"position:relative;width:100%;height:0;padding-bottom:60%;\"><span style=\"color:#565656\">Make this Notebook Trusted to load map: File -> Trust Notebook</span><iframe src=\"about:blank\" style=\"position:absolute;width:100%;height:100%;left:0;top:0;border:none !important;\" data-html=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 onload=\"this.contentDocument.open();this.contentDocument.write(atob(this.getAttribute('data-html')));this.contentDocument.close();\" allowfullscreen webkitallowfullscreen mozallowfullscreen></iframe></div></div>"
      ],
      "text/plain": [
       "<folium.folium.Map at 0x7fa6fdefd310>"
      ]
     },
     "execution_count": 13,
     "metadata": {},
     "output_type": "execute_result"
    }
   ],
   "source": [
    "# Why does only Athens return a result on the map? Check zoom...\n",
    "\n",
    "basemap.zoom_start = 2\n",
    "basemap"
   ]
  },
  {
   "cell_type": "markdown",
   "metadata": {},
   "source": [
    "## Disambiguate placenames"
   ]
  },
  {
   "cell_type": "code",
   "execution_count": 14,
   "metadata": {},
   "outputs": [],
   "source": [
    "# So we have learned that we can't use the top 'relevance' score from the Geoname API, or we\n",
    "# get results like 'Corinth, Texas' and 'Greece, NY'. We need some plan for disambiguating the\n",
    "# Geonames results..."
   ]
  },
  {
   "cell_type": "code",
   "execution_count": 15,
   "metadata": {},
   "outputs": [],
   "source": [
    "import geocoder"
   ]
  },
  {
   "cell_type": "code",
   "execution_count": 16,
   "metadata": {},
   "outputs": [
    {
     "data": {
      "text/plain": [
       "['Athens', 'Corinth', 'Greece']"
      ]
     },
     "execution_count": 16,
     "metadata": {},
     "output_type": "execute_result"
    }
   ],
   "source": [
    "places_list"
   ]
  },
  {
   "cell_type": "code",
   "execution_count": 17,
   "metadata": {
    "scrolled": true
   },
   "outputs": [
    {
     "name": "stdout",
     "output_type": "stream",
     "text": [
      "{'address': 'Corinth',\n",
      " 'class_description': 'country, state, region,...',\n",
      " 'code': 'ADM2',\n",
      " 'country': 'Saint Lucia',\n",
      " 'country_code': 'LC',\n",
      " 'description': 'second-order administrative division',\n",
      " 'feature_class': 'A',\n",
      " 'geonames_id': 11351423,\n",
      " 'lat': '14.0471',\n",
      " 'lng': '-60.96046',\n",
      " 'ok': True,\n",
      " 'population': 1382,\n",
      " 'raw': {'adminCode1': '06',\n",
      "         'adminCodes1': {'ISO3166_2': '06'},\n",
      "         'adminName1': 'Gros-Islet',\n",
      "         'countryCode': 'LC',\n",
      "         'countryId': '3576468',\n",
      "         'countryName': 'Saint Lucia',\n",
      "         'fcl': 'A',\n",
      "         'fclName': 'country, state, region,...',\n",
      "         'fcode': 'ADM2',\n",
      "         'fcodeName': 'second-order administrative division',\n",
      "         'geonameId': 11351423,\n",
      "         'lat': '14.0471',\n",
      "         'lng': '-60.96046',\n",
      "         'name': 'Corinth',\n",
      "         'population': 1382,\n",
      "         'toponymName': 'Corinth'},\n",
      " 'state': 'Gros-Islet',\n",
      " 'state_code': '06',\n",
      " 'status': 'OK'}\n"
     ]
    }
   ],
   "source": [
    "# Retrieve json from geonames API (for fun this time using geocoder)\n",
    "\n",
    "geocoder_results = []\n",
    "\n",
    "for place in places_list:\n",
    "    results = geocoder.geonames(place, maxRows=10, key=USERNAME)\n",
    "    jsons = []\n",
    "    for result in results:\n",
    "        jsons.append(result.json)\n",
    "    geocoder_results.append(jsons)\n",
    "    \n",
    "pprint(geocoder_results[1][0]) # Corinth, but a wrong Corinth"
   ]
  },
  {
   "cell_type": "code",
   "execution_count": 18,
   "metadata": {},
   "outputs": [
    {
     "name": "stdout",
     "output_type": "stream",
     "text": [
      "[('Athens', 37.98376, 23.72784), ('Athens', 33.96095, -83.37794), ('Athens', 39.32924, -82.10126), ('Athens', 39.33386, -82.04513), ('Athens Airport', 37.93636, 23.94447), ('The Plains', 39.36896, -82.13237), ('Athens', 13.90574, -60.89184), ('Strouds Run State Park', 39.34924, -82.03236), ('Chauncey', 39.39785, -82.12931), ('Glouster', 39.50313, -82.08459), ('Corinth', 14.0471, -60.96046), ('Corinth Estate', 14.04336, -60.95388), ('Corinth Head', -53.0, 73.41667), ('Corinth', 37.94007, 22.9513), ('Corinth/La Bel Lair', 14.04469, -60.94484), ('Corinth', 37.8144, 22.94352), ('Achaea (Roman province)', 37.93445, 22.92615), ('Ancient Corinth', 37.90953, 22.88353), ('Corinth', 34.93425, -88.52227), ('Examilia', 37.89736, 22.92832), ('Greece', 39.0, 22.0), ('Pátrai', 38.24444, 21.73444), ('Central Greece', 38.35243, 23.13995), ('West Greece', 38.48799, 21.2915), ('Central Greece and Euboea', 38.66667, 22.5), ('Lamia', 38.9, 22.43333), ('Achaea', 38.13333, 22.0), ('Peloponnese', 37.5, 22.33333), ('Mount Giona', 38.60284, 22.25473), ('Euboea Island', 38.5, 24.0)]\n"
     ]
    }
   ],
   "source": [
    "# Iterate over geocoder_results and keep all lat/long\n",
    "\n",
    "coordinates = []\n",
    "\n",
    "for i, results in enumerate(geocoder_results):\n",
    "    for item in results:\n",
    "        if item['lat'] and item['lng']:\n",
    "            coordinates.append((item['address'], float(item['lat']), float(item['lng'])))\n",
    "\n",
    "print(coordinates)"
   ]
  },
  {
   "cell_type": "markdown",
   "metadata": {},
   "source": [
    "## Create revised map"
   ]
  },
  {
   "cell_type": "markdown",
   "metadata": {},
   "source": [
    "Still not what we are looking for, but the 'cluster' premise gives us a reason to believe that one subset of coordinates, i.e. the one near Greece, are a better fit that the others."
   ]
  },
  {
   "cell_type": "code",
   "execution_count": 19,
   "metadata": {},
   "outputs": [
    {
     "name": "stdout",
     "output_type": "stream",
     "text": [
      "Still not what we are looking for...\n"
     ]
    },
    {
     "data": {
      "text/html": [
       "<div style=\"width:100%;\"><div style=\"position:relative;width:100%;height:0;padding-bottom:60%;\"><span style=\"color:#565656\">Make this Notebook Trusted to load map: File -> Trust Notebook</span><iframe src=\"about:blank\" style=\"position:absolute;width:100%;height:100%;left:0;top:0;border:none !important;\" data-html=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 onload=\"this.contentDocument.open();this.contentDocument.write(atob(this.getAttribute('data-html')));this.contentDocument.close();\" allowfullscreen webkitallowfullscreen mozallowfullscreen></iframe></div></div>"
      ],
      "text/plain": [
       "<folium.folium.Map at 0x7fa7012343d0>"
      ]
     },
     "execution_count": 19,
     "metadata": {},
     "output_type": "execute_result"
    }
   ],
   "source": [
    "# Set up Folium and populate with all coordinates\n",
    "\n",
    "basemap = folium.Map(location=[30, 0], zoom_start=2, tiles='cartodbpositron', width=960, height=512)\n",
    "\n",
    "for i, c in enumerate(coordinates):\n",
    "    folium.Marker([c[1], c[2]]).add_to(basemap)\n",
    "\n",
    "print('Still not what we are looking for...')\n",
    "basemap"
   ]
  },
  {
   "cell_type": "markdown",
   "metadata": {},
   "source": [
    "## Cluster the coordinates with DBSCAN"
   ]
  },
  {
   "cell_type": "markdown",
   "metadata": {},
   "source": [
    "Following this [notebook](https://github.com/gboeing/2014-summer-travels/blob/master/clustering-scikitlearn.ipynb) by Geoff Boeing for geographical clustering with DBScan"
   ]
  },
  {
   "cell_type": "code",
   "execution_count": 20,
   "metadata": {},
   "outputs": [],
   "source": [
    "import pandas as pd, numpy as np, matplotlib.pyplot as plt, time\n",
    "from sklearn.cluster import DBSCAN\n",
    "from sklearn import metrics\n",
    "from geopy.distance import great_circle\n",
    "from shapely.geometry import MultiPoint\n",
    "%matplotlib inline\n",
    "\n",
    "# define the number of kilometers in one radian\n",
    "kms_per_radian = 6371.0088"
   ]
  },
  {
   "cell_type": "code",
   "execution_count": 21,
   "metadata": {},
   "outputs": [
    {
     "data": {
      "text/html": [
       "<div>\n",
       "<style scoped>\n",
       "    .dataframe tbody tr th:only-of-type {\n",
       "        vertical-align: middle;\n",
       "    }\n",
       "\n",
       "    .dataframe tbody tr th {\n",
       "        vertical-align: top;\n",
       "    }\n",
       "\n",
       "    .dataframe thead th {\n",
       "        text-align: right;\n",
       "    }\n",
       "</style>\n",
       "<table border=\"1\" class=\"dataframe\">\n",
       "  <thead>\n",
       "    <tr style=\"text-align: right;\">\n",
       "      <th></th>\n",
       "      <th>placename</th>\n",
       "      <th>lat</th>\n",
       "      <th>lon</th>\n",
       "    </tr>\n",
       "  </thead>\n",
       "  <tbody>\n",
       "    <tr>\n",
       "      <th>0</th>\n",
       "      <td>Athens</td>\n",
       "      <td>37.98376</td>\n",
       "      <td>23.72784</td>\n",
       "    </tr>\n",
       "    <tr>\n",
       "      <th>1</th>\n",
       "      <td>Athens</td>\n",
       "      <td>33.96095</td>\n",
       "      <td>-83.37794</td>\n",
       "    </tr>\n",
       "    <tr>\n",
       "      <th>2</th>\n",
       "      <td>Athens</td>\n",
       "      <td>39.32924</td>\n",
       "      <td>-82.10126</td>\n",
       "    </tr>\n",
       "    <tr>\n",
       "      <th>3</th>\n",
       "      <td>Athens</td>\n",
       "      <td>39.33386</td>\n",
       "      <td>-82.04513</td>\n",
       "    </tr>\n",
       "    <tr>\n",
       "      <th>4</th>\n",
       "      <td>Athens Airport</td>\n",
       "      <td>37.93636</td>\n",
       "      <td>23.94447</td>\n",
       "    </tr>\n",
       "  </tbody>\n",
       "</table>\n",
       "</div>"
      ],
      "text/plain": [
       "        placename       lat       lon\n",
       "0          Athens  37.98376  23.72784\n",
       "1          Athens  33.96095 -83.37794\n",
       "2          Athens  39.32924 -82.10126\n",
       "3          Athens  39.33386 -82.04513\n",
       "4  Athens Airport  37.93636  23.94447"
      ]
     },
     "execution_count": 21,
     "metadata": {},
     "output_type": "execute_result"
    }
   ],
   "source": [
    "# make dataframe\n",
    "\n",
    "df = pd.DataFrame.from_records(coordinates, columns=['placename', 'lat', 'lon'])\n",
    "df[:5]"
   ]
  },
  {
   "cell_type": "code",
   "execution_count": 22,
   "metadata": {},
   "outputs": [],
   "source": [
    "# represent points consistently as (lat, lon)\n",
    "coords = df[['lat', 'lon']].values\n",
    "\n",
    "# define epsilon as 1.5 kilometers, converted to radians for use by haversine\n",
    "epsilon = 1000 / kms_per_radian"
   ]
  },
  {
   "cell_type": "code",
   "execution_count": 23,
   "metadata": {},
   "outputs": [
    {
     "name": "stdout",
     "output_type": "stream",
     "text": [
      "Clustered 30 points down to 4 clusters, for 86.7% compression in 0.01 seconds\n",
      "Silhouette coefficient: 0.934\n"
     ]
    }
   ],
   "source": [
    "# run the clustering algorithm\n",
    "\n",
    "start_time = time.time()\n",
    "db = DBSCAN(eps=epsilon, min_samples=1, algorithm='ball_tree', metric='haversine').fit(np.radians(coords))\n",
    "cluster_labels = db.labels_\n",
    "\n",
    "# get the number of clusters\n",
    "num_clusters = len(set(cluster_labels))\n",
    "\n",
    "# all done, print the outcome\n",
    "message = 'Clustered {:,} points down to {:,} clusters, for {:.1f}% compression in {:,.2f} seconds'\n",
    "print(message.format(len(df), num_clusters, 100*(1 - float(num_clusters) / len(df)), time.time()-start_time))\n",
    "print('Silhouette coefficient: {:0.03f}'.format(metrics.silhouette_score(coords, cluster_labels)))"
   ]
  },
  {
   "cell_type": "code",
   "execution_count": 24,
   "metadata": {},
   "outputs": [
    {
     "name": "stdout",
     "output_type": "stream",
     "text": [
      "0    [[37.98376, 23.72784], [37.93636, 23.94447], [...\n",
      "1    [[33.96095, -83.37794], [39.32924, -82.10126],...\n",
      "2    [[13.90574, -60.89184], [14.0471, -60.96046], ...\n",
      "3                                  [[-53.0, 73.41667]]\n",
      "dtype: object\n"
     ]
    }
   ],
   "source": [
    "# turn the clusters in to a pandas series, where each element is a cluster of points\n",
    "\n",
    "clusters = pd.Series([coords[cluster_labels==n] for n in range(num_clusters)])\n",
    "print(clusters)"
   ]
  },
  {
   "cell_type": "code",
   "execution_count": 25,
   "metadata": {},
   "outputs": [],
   "source": [
    "# get centers\n",
    "\n",
    "def get_centermost_point(cluster):\n",
    "    centroid = (MultiPoint(cluster).centroid.x, MultiPoint(cluster).centroid.y)\n",
    "    centermost_point = min(cluster, key=lambda point: great_circle(point, centroid).m)\n",
    "    return tuple(centermost_point)\n",
    "\n",
    "centermost_points = clusters.map(get_centermost_point)"
   ]
  },
  {
   "cell_type": "code",
   "execution_count": 26,
   "metadata": {},
   "outputs": [
    {
     "name": "stdout",
     "output_type": "stream",
     "text": [
      "Cluster 0 centered at (37.93445, 22.92615) contains 17 points.\n",
      "Cluster 1 centered at (39.32924, -82.10126) contains 8 points.\n",
      "Cluster 2 centered at (14.04469, -60.94484) contains 4 points.\n",
      "Cluster 3 centered at (-53.0, 73.41667) contains 1 points.\n"
     ]
    }
   ],
   "source": [
    "# summarize clusters\n",
    "\n",
    "max_cluster_index = 0\n",
    "max_temp = 0\n",
    "\n",
    "for i, cluster in enumerate(clusters):\n",
    "    print(f'Cluster {i} centered at {centermost_points[i]} contains {len(cluster)} points.')\n",
    "    if len(cluster) > max_temp:\n",
    "        max_temp = len(cluster)\n",
    "        max_cluster_index = i"
   ]
  },
  {
   "cell_type": "code",
   "execution_count": 27,
   "metadata": {},
   "outputs": [],
   "source": [
    "# keep only largest cluster\n",
    "\n",
    "main_cluster = clusters[max_cluster_index]\n",
    "main_center = centermost_points[max_cluster_index]"
   ]
  },
  {
   "cell_type": "code",
   "execution_count": 28,
   "metadata": {},
   "outputs": [],
   "source": [
    "# convert main_cluster coordinates from numpy array to tuple of floats\n",
    "\n",
    "main_cluster_coordinates = tuple(map(tuple, main_cluster))"
   ]
  },
  {
   "cell_type": "code",
   "execution_count": 29,
   "metadata": {},
   "outputs": [
    {
     "name": "stdout",
     "output_type": "stream",
     "text": [
      "All points in largest cluster...\n"
     ]
    },
    {
     "data": {
      "text/html": [
       "<div style=\"width:100%;\"><div style=\"position:relative;width:100%;height:0;padding-bottom:60%;\"><span style=\"color:#565656\">Make this Notebook Trusted to load map: File -> Trust Notebook</span><iframe src=\"about:blank\" style=\"position:absolute;width:100%;height:100%;left:0;top:0;border:none !important;\" data-html=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 onload=\"this.contentDocument.open();this.contentDocument.write(atob(this.getAttribute('data-html')));this.contentDocument.close();\" allowfullscreen webkitallowfullscreen mozallowfullscreen></iframe></div></div>"
      ],
      "text/plain": [
       "<folium.folium.Map at 0x7fa702515580>"
      ]
     },
     "execution_count": 29,
     "metadata": {},
     "output_type": "execute_result"
    }
   ],
   "source": [
    "# make new map\n",
    "\n",
    "basemap = folium.Map(location=main_center, zoom_start=6, tiles='cartodbpositron', width=960, height=512)\n",
    "\n",
    "for i, c in enumerate(main_cluster_coordinates):\n",
    "    folium.Marker([c[0], c[1]]).add_to(basemap)\n",
    "\n",
    "print(\"All points in largest cluster...\")\n",
    "basemap"
   ]
  },
  {
   "cell_type": "code",
   "execution_count": 30,
   "metadata": {},
   "outputs": [],
   "source": [
    "# define functions to compute distance from center following https://stackoverflow.com/a/41337005\n",
    "\n",
    "from math import cos, asin, sqrt\n",
    "\n",
    "def distance(lat1, lon1, lat2, lon2):\n",
    "    p = 0.017453292519943295\n",
    "    a = 0.5 - cos((lat2-lat1)*p)/2 + cos(lat1*p)*cos(lat2*p) * (1-cos((lon2-lon1)*p)) / 2\n",
    "    return 12742 * asin(sqrt(a))\n",
    "\n",
    "def closest(data, v):\n",
    "    return min(data, key=lambda p: distance(v[0],v[1],p[0],p[1]))"
   ]
  },
  {
   "cell_type": "code",
   "execution_count": 31,
   "metadata": {},
   "outputs": [],
   "source": [
    "# iterate over results and find closest distance from main cluster center\n",
    "\n",
    "top_places = []\n",
    "top_coordinates = []\n",
    "\n",
    "for results in geocoder_results:\n",
    "\n",
    "    coords_ = []\n",
    "    for result in results:\n",
    "        coords_.append((float(result['lat']), float(result['lng'])))\n",
    "    closest_coordinates = closest(coords_, main_center)\n",
    "    top_places.append(next(item['address'] for item in results if float(item['lat']) == closest_coordinates[0]))\n",
    "    top_coordinates.append(closest_coordinates)"
   ]
  },
  {
   "cell_type": "code",
   "execution_count": 32,
   "metadata": {},
   "outputs": [
    {
     "name": "stdout",
     "output_type": "stream",
     "text": [
      "Map of relevant locations in Broneer et al.'s \"Ancient Corinth: A guide to the excavations\"\n"
     ]
    },
    {
     "data": {
      "text/html": [
       "<div style=\"width:100%;\"><div style=\"position:relative;width:100%;height:0;padding-bottom:60%;\"><span style=\"color:#565656\">Make this Notebook Trusted to load map: File -> Trust Notebook</span><iframe src=\"about:blank\" style=\"position:absolute;width:100%;height:100%;left:0;top:0;border:none !important;\" data-html=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 onload=\"this.contentDocument.open();this.contentDocument.write(atob(this.getAttribute('data-html')));this.contentDocument.close();\" allowfullscreen webkitallowfullscreen mozallowfullscreen></iframe></div></div>"
      ],
      "text/plain": [
       "<folium.folium.Map at 0x7fa6fab59a60>"
      ]
     },
     "execution_count": 32,
     "metadata": {},
     "output_type": "execute_result"
    }
   ],
   "source": [
    "# set up Folium and populate with coordinates\n",
    "\n",
    "basemap = folium.Map(location=main_center, zoom_start=9, tiles='cartodbpositron', width=960, height=512)\n",
    "\n",
    "for i, c in enumerate(top_coordinates):\n",
    "    folium.Marker([c[0], c[1]], popup='{} {}{}'.format(top_places[i], c[0], c[1])).add_to(basemap)\n",
    "    \n",
    "print('Map of relevant locations in Broneer et al.\\'s \"Ancient Corinth: A guide to the excavations\"')\n",
    "basemap"
   ]
  }
 ],
 "metadata": {
  "kernelspec": {
   "display_name": "Python 3",
   "language": "python",
   "name": "python3"
  },
  "language_info": {
   "codemirror_mode": {
    "name": "ipython",
    "version": 3
   },
   "file_extension": ".py",
   "mimetype": "text/x-python",
   "name": "python",
   "nbconvert_exporter": "python",
   "pygments_lexer": "ipython3",
   "version": "3.8.2"
  }
 },
 "nbformat": 4,
 "nbformat_minor": 2
}
